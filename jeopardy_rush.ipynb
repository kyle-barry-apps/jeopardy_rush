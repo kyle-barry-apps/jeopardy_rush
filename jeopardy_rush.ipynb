{
 "cells": [
  {
   "cell_type": "markdown",
   "metadata": {},
   "source": [
    "# JeopardyRush!\n",
    "\n",
    "### Cleaning the Jeopardy! question data and converting it to JSON\n",
    "\n",
    "We do this to make it easier to work with the data in Javascript for our application"
   ]
  },
  {
   "cell_type": "markdown",
   "metadata": {},
   "source": [
    "First we import the stuff we need, including NLTK, a natural langauge processinig library, to clean up the answer data a bit more so we can accept more answers from the user. Then we'll read in the data as a dataframe."
   ]
  },
  {
   "cell_type": "code",
   "execution_count": 80,
   "metadata": {},
   "outputs": [],
   "source": [
    "import pandas as pd\n",
    "\n",
    "# Just to get rid of the annoying warnings in the notebook\n",
    "import warnings\n",
    "warnings.filterwarnings('ignore')\n",
    "import re"
   ]
  },
  {
   "cell_type": "code",
   "execution_count": 81,
   "metadata": {},
   "outputs": [],
   "source": [
    "jeo_df = pd.read_csv('./JEOPARDY_CSV.csv')"
   ]
  },
  {
   "cell_type": "code",
   "execution_count": 82,
   "metadata": {
    "scrolled": true
   },
   "outputs": [
    {
     "data": {
      "text/html": [
       "<div>\n",
       "<style scoped>\n",
       "    .dataframe tbody tr th:only-of-type {\n",
       "        vertical-align: middle;\n",
       "    }\n",
       "\n",
       "    .dataframe tbody tr th {\n",
       "        vertical-align: top;\n",
       "    }\n",
       "\n",
       "    .dataframe thead th {\n",
       "        text-align: right;\n",
       "    }\n",
       "</style>\n",
       "<table border=\"1\" class=\"dataframe\">\n",
       "  <thead>\n",
       "    <tr style=\"text-align: right;\">\n",
       "      <th></th>\n",
       "      <th>Show Number</th>\n",
       "      <th>Air Date</th>\n",
       "      <th>Round</th>\n",
       "      <th>Category</th>\n",
       "      <th>Value</th>\n",
       "      <th>Question</th>\n",
       "      <th>Answer</th>\n",
       "    </tr>\n",
       "  </thead>\n",
       "  <tbody>\n",
       "    <tr>\n",
       "      <th>0</th>\n",
       "      <td>4680</td>\n",
       "      <td>2004-12-31</td>\n",
       "      <td>Jeopardy!</td>\n",
       "      <td>HISTORY</td>\n",
       "      <td>$200</td>\n",
       "      <td>For the last 8 years of his life, Galileo was ...</td>\n",
       "      <td>Copernicus</td>\n",
       "    </tr>\n",
       "    <tr>\n",
       "      <th>1</th>\n",
       "      <td>4680</td>\n",
       "      <td>2004-12-31</td>\n",
       "      <td>Jeopardy!</td>\n",
       "      <td>ESPN's TOP 10 ALL-TIME ATHLETES</td>\n",
       "      <td>$200</td>\n",
       "      <td>No. 2: 1912 Olympian; football star at Carlisl...</td>\n",
       "      <td>Jim Thorpe</td>\n",
       "    </tr>\n",
       "    <tr>\n",
       "      <th>2</th>\n",
       "      <td>4680</td>\n",
       "      <td>2004-12-31</td>\n",
       "      <td>Jeopardy!</td>\n",
       "      <td>EVERYBODY TALKS ABOUT IT...</td>\n",
       "      <td>$200</td>\n",
       "      <td>The city of Yuma in this state has a record av...</td>\n",
       "      <td>Arizona</td>\n",
       "    </tr>\n",
       "    <tr>\n",
       "      <th>3</th>\n",
       "      <td>4680</td>\n",
       "      <td>2004-12-31</td>\n",
       "      <td>Jeopardy!</td>\n",
       "      <td>THE COMPANY LINE</td>\n",
       "      <td>$200</td>\n",
       "      <td>In 1963, live on \"The Art Linkletter Show\", th...</td>\n",
       "      <td>McDonald's</td>\n",
       "    </tr>\n",
       "    <tr>\n",
       "      <th>4</th>\n",
       "      <td>4680</td>\n",
       "      <td>2004-12-31</td>\n",
       "      <td>Jeopardy!</td>\n",
       "      <td>EPITAPHS &amp; TRIBUTES</td>\n",
       "      <td>$200</td>\n",
       "      <td>Signer of the Dec. of Indep., framer of the Co...</td>\n",
       "      <td>John Adams</td>\n",
       "    </tr>\n",
       "  </tbody>\n",
       "</table>\n",
       "</div>"
      ],
      "text/plain": [
       "   Show Number    Air Date      Round                         Category  Value  \\\n",
       "0         4680  2004-12-31  Jeopardy!                          HISTORY   $200   \n",
       "1         4680  2004-12-31  Jeopardy!  ESPN's TOP 10 ALL-TIME ATHLETES   $200   \n",
       "2         4680  2004-12-31  Jeopardy!      EVERYBODY TALKS ABOUT IT...   $200   \n",
       "3         4680  2004-12-31  Jeopardy!                 THE COMPANY LINE   $200   \n",
       "4         4680  2004-12-31  Jeopardy!              EPITAPHS & TRIBUTES   $200   \n",
       "\n",
       "                                            Question      Answer  \n",
       "0  For the last 8 years of his life, Galileo was ...  Copernicus  \n",
       "1  No. 2: 1912 Olympian; football star at Carlisl...  Jim Thorpe  \n",
       "2  The city of Yuma in this state has a record av...     Arizona  \n",
       "3  In 1963, live on \"The Art Linkletter Show\", th...  McDonald's  \n",
       "4  Signer of the Dec. of Indep., framer of the Co...  John Adams  "
      ]
     },
     "execution_count": 82,
     "metadata": {},
     "output_type": "execute_result"
    }
   ],
   "source": [
    "jeo_df.head()"
   ]
  },
  {
   "cell_type": "markdown",
   "metadata": {},
   "source": [
    "First I want to make the column names more usable by eliminating white space. Then I'll check for null values and see how to best deal with them"
   ]
  },
  {
   "cell_type": "code",
   "execution_count": 83,
   "metadata": {},
   "outputs": [
    {
     "data": {
      "text/plain": [
       "Index(['Show Number', ' Air Date', ' Round', ' Category', ' Value',\n",
       "       ' Question', ' Answer'],\n",
       "      dtype='object')"
      ]
     },
     "execution_count": 83,
     "metadata": {},
     "output_type": "execute_result"
    }
   ],
   "source": [
    "jeo_df.columns"
   ]
  },
  {
   "cell_type": "code",
   "execution_count": 84,
   "metadata": {},
   "outputs": [],
   "source": [
    "jeo_df.columns = ['show_number', 'air_date', 'round', 'category', 'value', 'question', 'answer']"
   ]
  },
  {
   "cell_type": "markdown",
   "metadata": {},
   "source": [
    "Technically, some Jeopardy enthusiasts might be upset we have the question as the answer and vice versa, but we'll let it slide."
   ]
  },
  {
   "cell_type": "code",
   "execution_count": 85,
   "metadata": {},
   "outputs": [
    {
     "data": {
      "text/plain": [
       "show_number    0\n",
       "air_date       0\n",
       "round          0\n",
       "category       0\n",
       "value          0\n",
       "question       0\n",
       "answer         2\n",
       "dtype: int64"
      ]
     },
     "execution_count": 85,
     "metadata": {},
     "output_type": "execute_result"
    }
   ],
   "source": [
    "jeo_df.isnull().sum()"
   ]
  },
  {
   "cell_type": "markdown",
   "metadata": {},
   "source": [
    "The data is pretty clean, but let's see what's going on with those two null answer values"
   ]
  },
  {
   "cell_type": "code",
   "execution_count": 86,
   "metadata": {},
   "outputs": [
    {
     "data": {
      "text/html": [
       "<div>\n",
       "<style scoped>\n",
       "    .dataframe tbody tr th:only-of-type {\n",
       "        vertical-align: middle;\n",
       "    }\n",
       "\n",
       "    .dataframe tbody tr th {\n",
       "        vertical-align: top;\n",
       "    }\n",
       "\n",
       "    .dataframe thead th {\n",
       "        text-align: right;\n",
       "    }\n",
       "</style>\n",
       "<table border=\"1\" class=\"dataframe\">\n",
       "  <thead>\n",
       "    <tr style=\"text-align: right;\">\n",
       "      <th></th>\n",
       "      <th>show_number</th>\n",
       "      <th>air_date</th>\n",
       "      <th>round</th>\n",
       "      <th>category</th>\n",
       "      <th>value</th>\n",
       "      <th>question</th>\n",
       "      <th>answer</th>\n",
       "    </tr>\n",
       "  </thead>\n",
       "  <tbody>\n",
       "    <tr>\n",
       "      <th>94817</th>\n",
       "      <td>4346</td>\n",
       "      <td>2003-06-23</td>\n",
       "      <td>Jeopardy!</td>\n",
       "      <td>GOING \"N\"SANE</td>\n",
       "      <td>$200</td>\n",
       "      <td>It often precedes \"and void\"</td>\n",
       "      <td>NaN</td>\n",
       "    </tr>\n",
       "    <tr>\n",
       "      <th>143297</th>\n",
       "      <td>6177</td>\n",
       "      <td>2011-06-21</td>\n",
       "      <td>Double Jeopardy!</td>\n",
       "      <td>NOTHING</td>\n",
       "      <td>$400</td>\n",
       "      <td>This word for \"nothing\" precedes \"and void\" to...</td>\n",
       "      <td>NaN</td>\n",
       "    </tr>\n",
       "  </tbody>\n",
       "</table>\n",
       "</div>"
      ],
      "text/plain": [
       "        show_number    air_date             round       category value  \\\n",
       "94817          4346  2003-06-23         Jeopardy!  GOING \"N\"SANE  $200   \n",
       "143297         6177  2011-06-21  Double Jeopardy!        NOTHING  $400   \n",
       "\n",
       "                                                 question answer  \n",
       "94817                        It often precedes \"and void\"    NaN  \n",
       "143297  This word for \"nothing\" precedes \"and void\" to...    NaN  "
      ]
     },
     "execution_count": 86,
     "metadata": {},
     "output_type": "execute_result"
    }
   ],
   "source": [
    "jeo_df[jeo_df['answer'].isnull()]"
   ]
  },
  {
   "cell_type": "markdown",
   "metadata": {},
   "source": [
    "Hilarious! The actual answers are \"null\", so when whoever wrangled the data converted the null values, these answers turned into NaN. Let's turn them back."
   ]
  },
  {
   "cell_type": "code",
   "execution_count": 87,
   "metadata": {},
   "outputs": [],
   "source": [
    "jeo_df.fillna('null', inplace=True)"
   ]
  },
  {
   "cell_type": "markdown",
   "metadata": {},
   "source": [
    "We want to use the value in our application, but Final Jeopardy questions don't have a value. These are great questions, so I'd like to use them. Let's convert \"None\" in the value column to $2000, as Final Jeopardy questions are difficult."
   ]
  },
  {
   "cell_type": "code",
   "execution_count": 88,
   "metadata": {},
   "outputs": [],
   "source": [
    "jeo_df['value'].replace('None', '$2,000', inplace=True)"
   ]
  },
  {
   "cell_type": "markdown",
   "metadata": {},
   "source": [
    "We're going to want to use the value as both as string to display and an integer to keep track of scores, so let's create a new column with the value as an integer"
   ]
  },
  {
   "cell_type": "code",
   "execution_count": 89,
   "metadata": {},
   "outputs": [],
   "source": [
    "jeo_df['value_int'] = jeo_df['value'].apply(lambda x: int(x.replace('$','').replace(',','')))"
   ]
  },
  {
   "cell_type": "markdown",
   "metadata": {},
   "source": [
    "I might want to work with the show number at some point, but the air date and round I don't think we need, so let's drop them."
   ]
  },
  {
   "cell_type": "code",
   "execution_count": 90,
   "metadata": {},
   "outputs": [],
   "source": [
    "jeo_df.drop(columns=['air_date', 'round'], inplace=True)"
   ]
  },
  {
   "cell_type": "code",
   "execution_count": 91,
   "metadata": {},
   "outputs": [
    {
     "data": {
      "text/plain": [
       "(216930, 6)"
      ]
     },
     "execution_count": 91,
     "metadata": {},
     "output_type": "execute_result"
    }
   ],
   "source": [
    "jeo_df.shape"
   ]
  },
  {
   "cell_type": "markdown",
   "metadata": {},
   "source": [
    "We're going to transform the data a bit, removing video and photo clues as that media is not in our data to be displayed to the user. We don't want \"name this flower seen above\" in our questions if we don't have a photo to render."
   ]
  },
  {
   "cell_type": "code",
   "execution_count": 92,
   "metadata": {},
   "outputs": [],
   "source": [
    "# I wanted to see if I could extract the jpg images from the questions if they are present, so we can keep the\n",
    "# photo clues in the data. But, unfortunately, most of them are no longer being hosted, so it's best to drop them\n",
    "# However, this is how I extracted the jpg urls using a regular expression\n",
    "\n",
    "def extract_media(question):\n",
    "    jpg = ''\n",
    "    if '.jpg' in question:\n",
    "        urls = re.findall('(?:(?:https?|ftp):\\/\\/)?[\\w/\\-?=%.]+\\.[\\w/\\-&?=%.]+', question)\n",
    "        for url in urls:\n",
    "            if 'jpg' in url:\n",
    "                jpg = url\n",
    "            else:\n",
    "                continue\n",
    "        return jpg\n",
    "    else:\n",
    "        return 0\n",
    "    \n",
    "jeo_df['media'] = jeo_df['question'].apply(lambda x: extract_media(x))"
   ]
  },
  {
   "cell_type": "code",
   "execution_count": 93,
   "metadata": {},
   "outputs": [],
   "source": [
    "# Remove photo, video and audio clues which tend to have the word \"here\" in them, as in \"seen here\" or \"heard here\"\n",
    "jeo_df = jeo_df[~jeo_df['question'].str.contains(' here ')]\n",
    "jeo_df = jeo_df[jeo_df['question'].apply(lambda x: ('seen' not in x.lower() and 'video' not in x.lower() and 'pictured' not in x.lower() and 'shown' not in x.lower()))]"
   ]
  },
  {
   "cell_type": "code",
   "execution_count": 94,
   "metadata": {},
   "outputs": [],
   "source": [
    "# Replace ampersand with the more natural 'and' for matching later\n",
    "jeo_df['answer'] = jeo_df['answer'].str.replace('&', 'and')"
   ]
  },
  {
   "cell_type": "code",
   "execution_count": 95,
   "metadata": {},
   "outputs": [],
   "source": [
    "# Parentheses are tricky in the answers, so best to remove the answers containing them\n",
    "jeo_df = jeo_df[~jeo_df['answer'].str.contains('\\(')]"
   ]
  },
  {
   "cell_type": "code",
   "execution_count": 96,
   "metadata": {},
   "outputs": [],
   "source": [
    "jeo_df = jeo_df[~jeo_df['answer'].str.contains('\\/')]"
   ]
  },
  {
   "cell_type": "code",
   "execution_count": 97,
   "metadata": {},
   "outputs": [],
   "source": [
    "# Quotes we can simply remove\n",
    "jeo_df['answer'] = jeo_df['answer'].str.replace('\"','')"
   ]
  },
  {
   "cell_type": "code",
   "execution_count": 98,
   "metadata": {},
   "outputs": [],
   "source": [
    "# Removing the answers with commas will be helpful, as well\n",
    "jeo_df = jeo_df[~jeo_df['answer'].str.contains(',')]"
   ]
  },
  {
   "cell_type": "code",
   "execution_count": 99,
   "metadata": {},
   "outputs": [],
   "source": [
    "# removing the and a at the beginning of answers\n",
    "jeo_df['the_or_a'] = jeo_df['answer'].apply(lambda x: 'yes' if x.lower().startswith('the ') \\\n",
    "                                            or x.lower().startswith('a ') or x.lower().startswith('an ') else 'no')\n",
    "jeo_df = jeo_df[jeo_df['the_or_a'] == 'no']"
   ]
  },
  {
   "cell_type": "code",
   "execution_count": 100,
   "metadata": {},
   "outputs": [],
   "source": [
    "# Removing answers with three or more words to simplify things\n",
    "jeo_df['long_answer'] = jeo_df.answer.apply(lambda x: 1 if len(x.split()) > 2 else 0)\n",
    "jeo_df = jeo_df[jeo_df['long_answer'] == 0]"
   ]
  },
  {
   "cell_type": "code",
   "execution_count": 101,
   "metadata": {},
   "outputs": [],
   "source": [
    "def acceptable_answer(answer):\n",
    "    \"\"\"New column with last name as another acceptable answer for questions about people\"\"\"\n",
    "    \n",
    "    answer_list = [answer]\n",
    "    \n",
    "    num_map = {'0': 'zero', '1' : 'one', '2': 'two', '3': 'three', '4': 'four', '5': 'five', '6': 'six', '7': 'seven',\\\n",
    "               '8': 'eight', '9': 'nine', '10': 'ten'}\n",
    "    \n",
    "    if answer in num_map:\n",
    "        answer_list.append(num_map[answer])\n",
    "    \n",
    "    split_up = answer.split()\n",
    "\n",
    "    if len(split_up) == 2:\n",
    "        if (split_up[0][0].isupper() and split_up[1][0].isupper()):\n",
    "            answer_list.append(split_up[1])\n",
    "            \n",
    "    return answer_list\n",
    "    "
   ]
  },
  {
   "cell_type": "code",
   "execution_count": 102,
   "metadata": {},
   "outputs": [],
   "source": [
    "jeo_df['acceptable_answer'] = jeo_df.answer.apply(lambda x: acceptable_answer(x))"
   ]
  },
  {
   "cell_type": "code",
   "execution_count": 103,
   "metadata": {},
   "outputs": [],
   "source": [
    "# Getting rid of the columns we don't need\n",
    "jeo_df = jeo_df[['category', 'value', 'question', 'value_int', 'acceptable_answer']]"
   ]
  },
  {
   "cell_type": "markdown",
   "metadata": {},
   "source": [
    "I think we're ready to convert this to JSON so we can access it through Javascript"
   ]
  },
  {
   "cell_type": "code",
   "execution_count": 105,
   "metadata": {},
   "outputs": [
    {
     "data": {
      "text/html": [
       "<div>\n",
       "<style scoped>\n",
       "    .dataframe tbody tr th:only-of-type {\n",
       "        vertical-align: middle;\n",
       "    }\n",
       "\n",
       "    .dataframe tbody tr th {\n",
       "        vertical-align: top;\n",
       "    }\n",
       "\n",
       "    .dataframe thead th {\n",
       "        text-align: right;\n",
       "    }\n",
       "</style>\n",
       "<table border=\"1\" class=\"dataframe\">\n",
       "  <thead>\n",
       "    <tr style=\"text-align: right;\">\n",
       "      <th></th>\n",
       "      <th>category</th>\n",
       "      <th>value</th>\n",
       "      <th>question</th>\n",
       "      <th>value_int</th>\n",
       "      <th>acceptable_answer</th>\n",
       "    </tr>\n",
       "  </thead>\n",
       "  <tbody>\n",
       "    <tr>\n",
       "      <th>0</th>\n",
       "      <td>HISTORY</td>\n",
       "      <td>$200</td>\n",
       "      <td>For the last 8 years of his life, Galileo was ...</td>\n",
       "      <td>200</td>\n",
       "      <td>[Copernicus]</td>\n",
       "    </tr>\n",
       "    <tr>\n",
       "      <th>1</th>\n",
       "      <td>ESPN's TOP 10 ALL-TIME ATHLETES</td>\n",
       "      <td>$200</td>\n",
       "      <td>No. 2: 1912 Olympian; football star at Carlisl...</td>\n",
       "      <td>200</td>\n",
       "      <td>[Jim Thorpe, Thorpe]</td>\n",
       "    </tr>\n",
       "    <tr>\n",
       "      <th>2</th>\n",
       "      <td>EVERYBODY TALKS ABOUT IT...</td>\n",
       "      <td>$200</td>\n",
       "      <td>The city of Yuma in this state has a record av...</td>\n",
       "      <td>200</td>\n",
       "      <td>[Arizona]</td>\n",
       "    </tr>\n",
       "    <tr>\n",
       "      <th>3</th>\n",
       "      <td>THE COMPANY LINE</td>\n",
       "      <td>$200</td>\n",
       "      <td>In 1963, live on \"The Art Linkletter Show\", th...</td>\n",
       "      <td>200</td>\n",
       "      <td>[McDonald's]</td>\n",
       "    </tr>\n",
       "    <tr>\n",
       "      <th>4</th>\n",
       "      <td>EPITAPHS &amp; TRIBUTES</td>\n",
       "      <td>$200</td>\n",
       "      <td>Signer of the Dec. of Indep., framer of the Co...</td>\n",
       "      <td>200</td>\n",
       "      <td>[John Adams, Adams]</td>\n",
       "    </tr>\n",
       "    <tr>\n",
       "      <th>...</th>\n",
       "      <td>...</td>\n",
       "      <td>...</td>\n",
       "      <td>...</td>\n",
       "      <td>...</td>\n",
       "      <td>...</td>\n",
       "    </tr>\n",
       "    <tr>\n",
       "      <th>216923</th>\n",
       "      <td>WORLD CAPITALS</td>\n",
       "      <td>$2000</td>\n",
       "      <td>It's on the Suriname River</td>\n",
       "      <td>2000</td>\n",
       "      <td>[Paramaribo]</td>\n",
       "    </tr>\n",
       "    <tr>\n",
       "      <th>216924</th>\n",
       "      <td>OFF-BROADWAY</td>\n",
       "      <td>$2000</td>\n",
       "      <td>In 2006 the cast of this long-running hit emba...</td>\n",
       "      <td>2000</td>\n",
       "      <td>[Stomp]</td>\n",
       "    </tr>\n",
       "    <tr>\n",
       "      <th>216925</th>\n",
       "      <td>RIDDLE ME THIS</td>\n",
       "      <td>$2000</td>\n",
       "      <td>This Puccini opera turns on the solution to 3 ...</td>\n",
       "      <td>2000</td>\n",
       "      <td>[Turandot]</td>\n",
       "    </tr>\n",
       "    <tr>\n",
       "      <th>216927</th>\n",
       "      <td>AUTHORS IN THEIR YOUTH</td>\n",
       "      <td>$2000</td>\n",
       "      <td>In Penny Lane, where this \"Hellraiser\" grew up...</td>\n",
       "      <td>2000</td>\n",
       "      <td>[Clive Barker, Barker]</td>\n",
       "    </tr>\n",
       "    <tr>\n",
       "      <th>216928</th>\n",
       "      <td>QUOTATIONS</td>\n",
       "      <td>$2000</td>\n",
       "      <td>From Ft. Sill, Okla. he made the plea, Arizona...</td>\n",
       "      <td>2000</td>\n",
       "      <td>[Geronimo]</td>\n",
       "    </tr>\n",
       "  </tbody>\n",
       "</table>\n",
       "<p>146926 rows × 5 columns</p>\n",
       "</div>"
      ],
      "text/plain": [
       "                               category  value  \\\n",
       "0                               HISTORY   $200   \n",
       "1       ESPN's TOP 10 ALL-TIME ATHLETES   $200   \n",
       "2           EVERYBODY TALKS ABOUT IT...   $200   \n",
       "3                      THE COMPANY LINE   $200   \n",
       "4                   EPITAPHS & TRIBUTES   $200   \n",
       "...                                 ...    ...   \n",
       "216923                   WORLD CAPITALS  $2000   \n",
       "216924                     OFF-BROADWAY  $2000   \n",
       "216925                   RIDDLE ME THIS  $2000   \n",
       "216927           AUTHORS IN THEIR YOUTH  $2000   \n",
       "216928                       QUOTATIONS  $2000   \n",
       "\n",
       "                                                 question  value_int  \\\n",
       "0       For the last 8 years of his life, Galileo was ...        200   \n",
       "1       No. 2: 1912 Olympian; football star at Carlisl...        200   \n",
       "2       The city of Yuma in this state has a record av...        200   \n",
       "3       In 1963, live on \"The Art Linkletter Show\", th...        200   \n",
       "4       Signer of the Dec. of Indep., framer of the Co...        200   \n",
       "...                                                   ...        ...   \n",
       "216923                         It's on the Suriname River       2000   \n",
       "216924  In 2006 the cast of this long-running hit emba...       2000   \n",
       "216925  This Puccini opera turns on the solution to 3 ...       2000   \n",
       "216927  In Penny Lane, where this \"Hellraiser\" grew up...       2000   \n",
       "216928  From Ft. Sill, Okla. he made the plea, Arizona...       2000   \n",
       "\n",
       "             acceptable_answer  \n",
       "0                 [Copernicus]  \n",
       "1         [Jim Thorpe, Thorpe]  \n",
       "2                    [Arizona]  \n",
       "3                 [McDonald's]  \n",
       "4          [John Adams, Adams]  \n",
       "...                        ...  \n",
       "216923            [Paramaribo]  \n",
       "216924                 [Stomp]  \n",
       "216925              [Turandot]  \n",
       "216927  [Clive Barker, Barker]  \n",
       "216928              [Geronimo]  \n",
       "\n",
       "[146926 rows x 5 columns]"
      ]
     },
     "execution_count": 105,
     "metadata": {},
     "output_type": "execute_result"
    }
   ],
   "source": [
    "jeo_df"
   ]
  },
  {
   "cell_type": "code",
   "execution_count": 49,
   "metadata": {},
   "outputs": [],
   "source": [
    "jeo_df.sample(10000).to_json('jeopardy_data.json', orient='records')"
   ]
  }
 ],
 "metadata": {
  "kernelspec": {
   "display_name": "Python 3",
   "language": "python",
   "name": "python3"
  },
  "language_info": {
   "codemirror_mode": {
    "name": "ipython",
    "version": 3
   },
   "file_extension": ".py",
   "mimetype": "text/x-python",
   "name": "python",
   "nbconvert_exporter": "python",
   "pygments_lexer": "ipython3",
   "version": "3.7.0"
  }
 },
 "nbformat": 4,
 "nbformat_minor": 2
}
